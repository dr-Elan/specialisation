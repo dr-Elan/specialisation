{
 "cells": [
  {
   "cell_type": "code",
   "execution_count": 1,
   "id": "6a4464f2",
   "metadata": {},
   "outputs": [],
   "source": [
    "import numpy as np\n",
    "import pandas as pd"
   ]
  },
  {
   "cell_type": "code",
   "execution_count": 2,
   "id": "a9a3495f",
   "metadata": {},
   "outputs": [],
   "source": [
    "some_strings = ['hello, world', 'hello geekbrains', 'hello, how are you', 'yes', 'no', 'what you doing', '!']"
   ]
  },
  {
   "cell_type": "code",
   "execution_count": 3,
   "id": "e17a4849",
   "metadata": {},
   "outputs": [],
   "source": [
    "def pars(sm_string):\n",
    "    '''\n",
    "    Now, we can write code for parsing\n",
    "    '''\n",
    "    new_massiv = []\n",
    "    for i in sm_string:\n",
    "        if len(i)<=3:\n",
    "            new_massiv.append(i)"
   ]
  },
  {
   "cell_type": "code",
   "execution_count": null,
   "id": "cf91d190",
   "metadata": {},
   "outputs": [],
   "source": []
  }
 ],
 "metadata": {
  "kernelspec": {
   "display_name": "Python 3 (ipykernel)",
   "language": "python",
   "name": "python3"
  },
  "language_info": {
   "codemirror_mode": {
    "name": "ipython",
    "version": 3
   },
   "file_extension": ".py",
   "mimetype": "text/x-python",
   "name": "python",
   "nbconvert_exporter": "python",
   "pygments_lexer": "ipython3",
   "version": "3.8.8"
  }
 },
 "nbformat": 4,
 "nbformat_minor": 5
}
