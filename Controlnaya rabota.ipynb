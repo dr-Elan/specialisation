{
 "cells": [
  {
   "cell_type": "code",
   "execution_count": 1,
   "id": "fd505ebe",
   "metadata": {},
   "outputs": [],
   "source": [
    "import numpy as np\n",
    "import pandas as pd"
   ]
  },
  {
   "cell_type": "code",
   "execution_count": 2,
   "id": "12037f93",
   "metadata": {},
   "outputs": [],
   "source": [
    "some_strings = ['hello, world', 'hello geekbrains', 'hello, how are you', 'yes', 'no', 'what you doing', '!']"
   ]
  },
  {
   "cell_type": "code",
   "execution_count": 4,
   "id": "03722dbf",
   "metadata": {},
   "outputs": [],
   "source": [
    "def pars(sm_string):\n",
    "    '''\n",
    "    Now, we can write code for parsing\n",
    "    '''\n",
    "    new_massiv = []\n",
    "    for i in sm_string:\n",
    "        if len(i)<=3:\n",
    "            new_massiv.append(i)\n",
    "    print(new_massiv)"
   ]
  },
  {
   "cell_type": "code",
   "execution_count": 5,
   "id": "30887e71",
   "metadata": {},
   "outputs": [
    {
     "name": "stdout",
     "output_type": "stream",
     "text": [
      "['yes', 'no', '!']\n"
     ]
    }
   ],
   "source": [
    "pars(some_strings)"
   ]
  },
  {
   "cell_type": "code",
   "execution_count": null,
   "id": "a70d2d9d",
   "metadata": {},
   "outputs": [],
   "source": []
  }
 ],
 "metadata": {
  "kernelspec": {
   "display_name": "Python 3 (ipykernel)",
   "language": "python",
   "name": "python3"
  },
  "language_info": {
   "codemirror_mode": {
    "name": "ipython",
    "version": 3
   },
   "file_extension": ".py",
   "mimetype": "text/x-python",
   "name": "python",
   "nbconvert_exporter": "python",
   "pygments_lexer": "ipython3",
   "version": "3.8.8"
  }
 },
 "nbformat": 4,
 "nbformat_minor": 5
}
